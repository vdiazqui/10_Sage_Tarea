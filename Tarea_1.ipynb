{
 "cells": [
  {
   "cell_type": "code",
   "execution_count": 24,
   "metadata": {
    "collapsed": false
   },
   "outputs": [
    {
     "data": {
      "text/plain": [
       "(7/8, 0.875)"
      ]
     },
     "execution_count": 24,
     "metadata": {
     },
     "output_type": "execute_result"
    }
   ],
   "source": [
    "# División y aproximación decimal\n",
    "rational_number = 28/(2**5)\n",
    "decimal_approximation = float (rational_number)\n",
    "rational_number, decimal_approximation"
   ]
  },
  {
   "cell_type": "code",
   "execution_count": 10,
   "metadata": {
    "collapsed": false
   },
   "outputs": [
    {
     "data": {
      "text/plain": [
       "(sqrt(2), 1.4142135623730951)"
      ]
     },
     "execution_count": 10,
     "metadata": {
     },
     "output_type": "execute_result"
    }
   ],
   "source": [
    "# Aproximación decimal de la raíz cuadrada de 2\n",
    "square_root = sqrt(2)\n",
    "decimal_approximation = float(square_root)\n",
    "square_root, decimal_approximation"
   ]
  },
  {
   "cell_type": "code",
   "execution_count": 28,
   "metadata": {
    "collapsed": false
   },
   "outputs": [
    {
     "data": {
      "text/plain": [
       "3*I"
      ]
     },
     "execution_count": 28,
     "metadata": {
     },
     "output_type": "execute_result"
    }
   ],
   "source": [
    "# Raíz cuadrada de -9\n",
    "negative_square_root = sqrt(-9)\n",
    "negative_square_root"
   ]
  },
  {
   "cell_type": "code",
   "execution_count": 14,
   "metadata": {
    "collapsed": false
   },
   "outputs": [
    {
     "data": {
      "text/plain": [
       "51"
      ]
     },
     "execution_count": 14,
     "metadata": {
     },
     "output_type": "execute_result"
    }
   ],
   "source": [
    "# Logaritmo en base 3 \n",
    "number = 2153693963075557766310747\n",
    "logarithm = log(number, 3)\n",
    "logarithm"
   ]
  },
  {
   "cell_type": "code",
   "execution_count": 20,
   "metadata": {
    "collapsed": false
   },
   "outputs": [
    {
     "data": {
      "text/plain": [
       "2.7182818284590452353602874713526624977572470937000"
      ]
     },
     "execution_count": 20,
     "metadata": {
     },
     "output_type": "execute_result"
    }
   ],
   "source": [
    "# 50 primeras cifras decimales de e\n",
    "e_approximation = e.n(digits = 50)\n",
    "e_approximation"
   ]
  },
  {
   "cell_type": "code",
   "execution_count": 36,
   "metadata": {
    "collapsed": false
   },
   "outputs": [
    {
     "data": {
      "text/plain": [
       "3.1415926535897932384626433832795028841971693993751058209749445923078164062862090"
      ]
     },
     "execution_count": 36,
     "metadata": {
     },
     "output_type": "execute_result"
    }
   ],
   "source": [
    "# 80 primeras cifras decimales de pi\n",
    "pi_approximation = pi.n(digits = 80)\n",
    "pi_approximation"
   ]
  },
  {
   "cell_type": "code",
   "execution_count": 34,
   "metadata": {
    "collapsed": false
   },
   "outputs": [
    {
     "data": {
      "text/plain": [
       "(9, 74)"
      ]
     },
     "execution_count": 34,
     "metadata": {
     },
     "output_type": "execute_result"
    }
   ],
   "source": [
    "# Cociente y resto de la división\n",
    "dividendo = 956\n",
    "divisor = 98\n",
    "cociente, resto = divmod(dividendo, divisor)\n",
    "cociente, resto"
   ]
  },
  {
   "cell_type": "code",
   "execution_count": 37,
   "metadata": {
    "collapsed": false
   },
   "outputs": [
    {
     "data": {
      "text/plain": [
       "(9, 74, True)"
      ]
     },
     "execution_count": 37,
     "metadata": {
     },
     "output_type": "execute_result"
    }
   ],
   "source": [
    "# Prueba de Euclides\n",
    "dividendo = 956\n",
    "divisor = 98\n",
    "cociente, resto = divmod(dividendo, divisor)\n",
    "verificacion_euclides = cociente * divisor + resto == dividendo\n",
    "cociente, resto, verificacion_euclides"
   ]
  },
  {
   "cell_type": "code",
   "execution_count": 38,
   "metadata": {
    "collapsed": false
   },
   "outputs": [
    {
     "data": {
      "text/plain": [
       "False"
      ]
     },
     "execution_count": 38,
     "metadata": {
     },
     "output_type": "execute_result"
    }
   ],
   "source": [
    "# Comprobar si 3 divide 234878\n",
    "dividendo = 234878\n",
    "divisor = 3\n",
    "es_divisible = dividendo % divisor == 0\n",
    "es_divisible"
   ]
  },
  {
   "cell_type": "code",
   "execution_count": 45,
   "metadata": {
    "collapsed": false
   },
   "outputs": [
    {
     "data": {
      "text/plain": [
       "{134: [1, 2, 67, 134],\n",
       " 491: [1, 491],\n",
       " 422: [1, 2, 211, 422],\n",
       " 1002: [1, 2, 3, 6, 167, 334, 501, 1002]}"
      ]
     },
     "execution_count": 45,
     "metadata": {
     },
     "output_type": "execute_result"
    }
   ],
   "source": [
    "# Lista de divisores\n",
    "\n",
    "# Define los números\n",
    "numeros = [134, 491, 422, 1002]\n",
    "\n",
    "# Calcula los divisores de cada número\n",
    "divisores_por_numero = {num: divisors(num) for num in numeros}\n",
    "\n",
    "# Muestra los resultados\n",
    "divisores_por_numero"
   ]
  },
  {
   "cell_type": "code",
   "execution_count": 46,
   "metadata": {
    "collapsed": false
   },
   "outputs": [
    {
     "data": {
      "text/plain": [
       "[491]"
      ]
     },
     "execution_count": 46,
     "metadata": {
     },
     "output_type": "execute_result"
    }
   ],
   "source": [
    "# Números primos\n",
    "\n",
    "# Define los números\n",
    "numeros = [134, 491, 422, 1002]\n",
    "\n",
    "# Filtra los números primos\n",
    "primos = [num for num in numeros if is_prime(num)]\n",
    "\n",
    "# Muestra los resultados\n",
    "primos"
   ]
  },
  {
   "cell_type": "code",
   "execution_count": 47,
   "metadata": {
    "collapsed": false
   },
   "outputs": [
    {
     "data": {
      "text/plain": [
       "((1, 10), (2, 20), (3, 306))"
      ]
     },
     "execution_count": 47,
     "metadata": {
     },
     "output_type": "execute_result"
    }
   ],
   "source": [
    "# MCD y MCM\n",
    "mcd_2_5 = gcd(2, 5)\n",
    "mcm_2_5 = lcm(2, 5)\n",
    "\n",
    "mcd_4_10 = gcd(4, 10)\n",
    "mcm_4_10 = lcm(4, 10)\n",
    "\n",
    "mcd_18_51 = gcd(18, 51)\n",
    "mcm_18_51 = lcm(18, 51)\n",
    "\n",
    "(mcd_2_5, mcm_2_5), (mcd_4_10, mcm_4_10), (mcd_18_51, mcm_18_51)"
   ]
  },
  {
   "cell_type": "code",
   "execution_count": 0,
   "metadata": {
    "collapsed": false
   },
   "outputs": [
   ],
   "source": [
   ]
  }
 ],
 "metadata": {
  "kernelspec": {
   "argv": [
    "sage-10.1",
    "--python",
    "-m",
    "sage.repl.ipython_kernel",
    "--matplotlib=inline",
    "-f",
    "{connection_file}"
   ],
   "display_name": "SageMath 10.1",
   "env": {
   },
   "language": "sagemath",
   "metadata": {
    "cocalc": {
     "description": "Open-source mathematical software system",
     "priority": 10,
     "url": "https://www.sagemath.org/"
    }
   },
   "name": "sage-10.1",
   "resource_dir": "/ext/jupyter/kernels/sage-10.1"
  },
  "language_info": {
   "codemirror_mode": {
    "name": "ipython",
    "version": 3
   },
   "file_extension": ".py",
   "mimetype": "text/x-python",
   "name": "python",
   "nbconvert_exporter": "python",
   "pygments_lexer": "ipython3",
   "version": "3.11.1"
  }
 },
 "nbformat": 4,
 "nbformat_minor": 4
}